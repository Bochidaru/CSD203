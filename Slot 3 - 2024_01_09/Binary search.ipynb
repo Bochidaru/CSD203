{
 "cells": [
  {
   "cell_type": "code",
   "execution_count": 1,
   "id": "57a54096",
   "metadata": {},
   "outputs": [
    {
     "name": "stdout",
     "output_type": "stream",
     "text": [
      "True\n",
      "False\n"
     ]
    }
   ],
   "source": [
    "def binary_search_while(data, target):\n",
    "    left = 0\n",
    "    right = len(data) - 1\n",
    "    while left <= right:\n",
    "        mid = (left + right) // 2\n",
    "        if data[mid] == target:\n",
    "            return True\n",
    "        elif target > data[mid]:\n",
    "            left = mid + 1\n",
    "        else:\n",
    "            right = mid - 1\n",
    "    return False\n",
    "\n",
    "def binary_search_recursion(data, target, left, right):\n",
    "    if left > right:\n",
    "        return False\n",
    "    else:\n",
    "        mid = (left + right) // 2\n",
    "        if data[mid] == target:\n",
    "            return True\n",
    "        elif target < data[mid]:\n",
    "            return binary_search_recursion(data, target, left, mid - 1)\n",
    "        else:\n",
    "            return binary_search_recursion(data, target, mid + 1, right)\n",
    "\n",
    "test_list = [1, 3, 5, 7, 9, 11, 13, 15, 17, 19, 21, 23, 25, 27, 29, 31, 33, 35, 37, 39, 41, 43, 45, 47, 49, 51, 53, 55, 57, 59, 61, 63, 65, 67, 69, 71, 73, 75, 77, 79, 81, 83, 85, 87, 89, 91, 93, 95, 97, 99]\n",
    "\n",
    "print(binary_search_while(test_list, 49))\n",
    "print(binary_search_recursion(test_list, 48, 0, len(test_list) - 1))\n"
   ]
  },
  {
   "cell_type": "code",
   "execution_count": null,
   "id": "3d0468d2",
   "metadata": {},
   "outputs": [],
   "source": []
  }
 ],
 "metadata": {
  "kernelspec": {
   "display_name": "Python 3 (ipykernel)",
   "language": "python",
   "name": "python3"
  },
  "language_info": {
   "codemirror_mode": {
    "name": "ipython",
    "version": 3
   },
   "file_extension": ".py",
   "mimetype": "text/x-python",
   "name": "python",
   "nbconvert_exporter": "python",
   "pygments_lexer": "ipython3",
   "version": "3.11.5"
  }
 },
 "nbformat": 4,
 "nbformat_minor": 5
}
