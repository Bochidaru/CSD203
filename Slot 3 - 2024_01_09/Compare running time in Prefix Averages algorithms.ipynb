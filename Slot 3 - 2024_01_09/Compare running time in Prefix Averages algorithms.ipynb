{
 "cells": [
  {
   "cell_type": "code",
   "execution_count": 1,
   "id": "aab25c4d",
   "metadata": {},
   "outputs": [
    {
     "name": "stdout",
     "output_type": "stream",
     "text": [
      "Running time\n",
      "prefix_average1: 54.98057842254639s\n",
      "prefix_average2: 23.221327781677246s\n",
      "prefix_average3: 0.005005359649658203s\n"
     ]
    }
   ],
   "source": [
    "from random import randint\n",
    "from time import time\n",
    "\n",
    "def prefix_average1(S):\n",
    "    n = len(S)\n",
    "    A = [0] * n\n",
    "    for j in range(n):\n",
    "        total = 0\n",
    "        for i in range(j+1):\n",
    "            total += S[i]\n",
    "        A[j] = total / (j+1)\n",
    "    return A\n",
    "\n",
    "def prefix_average2(S):\n",
    "    n = len(S)\n",
    "    A = [0] * n\n",
    "    for j in range(n):\n",
    "        A[j] = sum(S[0:j+1]) / (j+1)\n",
    "    return A\n",
    "\n",
    "def prefix_average3(S):\n",
    "    n = len(S)\n",
    "    A = [0] * n\n",
    "    total = 0\n",
    "    for j in range(n):\n",
    "        total += S[j]\n",
    "        A[j] = total / (j+1)\n",
    "    return A\n",
    "\n",
    "def time_count(prefix_average_function, S):\n",
    "    start_time = time()\n",
    "    prefix_average_function(S)\n",
    "    end_time = time()\n",
    "    return (end_time - start_time)\n",
    "\n",
    "random_list = [randint(1, 1000000) for _ in range(50000)]\n",
    "\n",
    "time1 = time_count(prefix_average1, random_list)\n",
    "time2 = time_count(prefix_average2, random_list)\n",
    "time3 = time_count(prefix_average3, random_list)\n",
    "\n",
    "print(\"Running time\")\n",
    "print(f\"prefix_average1: {time1}s\")\n",
    "print(f\"prefix_average2: {time2}s\")\n",
    "print(f\"prefix_average3: {time3}s\")"
   ]
  }
 ],
 "metadata": {
  "kernelspec": {
   "display_name": "Python 3 (ipykernel)",
   "language": "python",
   "name": "python3"
  },
  "language_info": {
   "codemirror_mode": {
    "name": "ipython",
    "version": 3
   },
   "file_extension": ".py",
   "mimetype": "text/x-python",
   "name": "python",
   "nbconvert_exporter": "python",
   "pygments_lexer": "ipython3",
   "version": "3.11.5"
  }
 },
 "nbformat": 4,
 "nbformat_minor": 5
}
